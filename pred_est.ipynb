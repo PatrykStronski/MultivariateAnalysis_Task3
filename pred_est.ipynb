{
 "cells": [
  {
   "cell_type": "code",
   "execution_count": 43,
   "metadata": {},
   "outputs": [],
   "source": [
    "import pandas as pd\n",
    "from sampling import pps\n",
    "from correlation_estimators import calculate_pearson"
   ]
  },
  {
   "cell_type": "code",
   "execution_count": 44,
   "metadata": {},
   "outputs": [
    {
     "name": "stderr",
     "output_type": "stream",
     "text": [
      "/home/patrik-sh/Documents/ITMO_Classes/Multivariate/tasks/task3/venv/lib/python3.8/site-packages/pandas/core/frame.py:4906: SettingWithCopyWarning: \n",
      "A value is trying to be set on a copy of a slice from a DataFrame\n",
      "\n",
      "See the caveats in the documentation: https://pandas.pydata.org/pandas-docs/stable/user_guide/indexing.html#returning-a-view-versus-a-copy\n",
      "  return super().drop(\n"
     ]
    },
    {
     "data": {
      "text/plain": [
       "array(['Missing/Undefined', 'Arson', 'Debris Burning', 'Campfire',\n",
       "       'Miscellaneous', 'Fireworks', 'Lightning', 'Equipment Use',\n",
       "       'Children', 'Smoking', 'Railroad', 'Structure', 'Powerline'],\n",
       "      dtype=object)"
      ]
     },
     "execution_count": 44,
     "metadata": {},
     "output_type": "execute_result"
    }
   ],
   "source": [
    "\n",
    "dfo = pd.read_csv('./data/FW_Veg_Rem_Combined.csv')\n",
    "\n",
    "cont_columns_prefix = ['Prec_pre_', \"Temp_pre_\", \"Wind_pre_\", \"Hum_pre_\"]\n",
    "columns_suffix = [7, 15, 30]\n",
    "\n",
    "weather_columns = [ x + str(y) for x in cont_columns_prefix for y in columns_suffix]\n",
    "\n",
    "def preprocess_missing_weather_data(df):\n",
    "    df_subsample = df[df['Temp_pre_7'] == -1]\n",
    "    df_clean = df[df['Temp_pre_7'] != -1]\n",
    "    mean_weather_data = df_clean.groupby(['state', 'discovery_month'])[weather_columns].mean().reset_index()\n",
    "    df_subsample.drop(weather_columns, axis=1, inplace=True)\n",
    "    df_subsample = df_subsample.merge(mean_weather_data)\n",
    "    df_clean = df_clean.append(df_subsample, ignore_index=True)\n",
    "    return df_clean\n",
    "\n",
    "df = preprocess_missing_weather_data(dfo)\n",
    "\n",
    "df.stat_cause_descr.unique()"
   ]
  },
  {
   "cell_type": "code",
   "execution_count": 51,
   "metadata": {},
   "outputs": [
    {
     "name": "stdout",
     "output_type": "stream",
     "text": [
      "The Pearsons coefficient for fire_size and remoteness is 0.01768175556678184\n",
      "The Pearsons coefficient for fire_size and latitude is 0.06068887229695752\n",
      "The Pearsons coefficient for fire_size and longitude is -0.1285332659006827\n",
      "The Pearsons coefficient for fire_size and Prec_pre_7 is -0.013611858985944624\n",
      "The Pearsons coefficient for fire_size and Prec_pre_15 is -0.01917353953200782\n",
      "The Pearsons coefficient for fire_size and Prec_pre_30 is -0.024558575998517934\n",
      "The Pearsons coefficient for fire_size and Temp_pre_7 is 0.03761694365758255\n",
      "The Pearsons coefficient for fire_size and Temp_pre_15 is 0.03673819544598944\n",
      "The Pearsons coefficient for fire_size and Temp_pre_30 is 0.03496115155959529\n",
      "The Pearsons coefficient for fire_size and Wind_pre_7 is 0.030152651998690484\n",
      "The Pearsons coefficient for fire_size and Wind_pre_15 is 0.032173631153929905\n",
      "The Pearsons coefficient for fire_size and Wind_pre_30 is 0.03068275531053491\n",
      "The Pearsons coefficient for fire_size and Hum_pre_7 is -0.049708514821302445\n",
      "The Pearsons coefficient for fire_size and Hum_pre_15 is -0.052474028238831245\n",
      "The Pearsons coefficient for fire_size and Hum_pre_30 is -0.060002812227120186\n"
     ]
    }
   ],
   "source": [
    "predictors_o = ['Temp_pre_7', 'Hum_pre_7', 'Wind_pre_7', 'Prec_pre_7', 'remoteness', 'latitude', 'longitude', 'Temp_cont', 'Hum_cont', 'Wind_cont', 'Prec_cont']\n",
    "\n",
    "predictors = ['remoteness', 'latitude', 'longitude']\n",
    "\n",
    "predictors += weather_columns\n",
    "\n",
    "targets = ['fire_size']\n",
    "\n",
    "\n",
    "prospective_predictors = ['Debris Burning', 'Campfire', 'Children', 'Equipment Use', 'Smoking']\n",
    "\n",
    "df_sample = df.loc[df.stat_cause_descr.isin(prospective_predictors)]\n",
    "\n",
    "for pred in predictors:\n",
    "    for tar in targets:\n",
    "        pr = calculate_pearson(df_sample, pred, tar)\n",
    "        print(f'The Pearsons coefficient for {tar} and {pred} is {pr}')"
   ]
  }
 ],
 "metadata": {
  "interpreter": {
   "hash": "dffc6a57b8f9fa38a755237629557dc6f7b2edba1c2bac95e97d1efb0825353e"
  },
  "kernelspec": {
   "display_name": "Python 3.8.10 64-bit ('venv': venv)",
   "language": "python",
   "name": "python3"
  },
  "language_info": {
   "codemirror_mode": {
    "name": "ipython",
    "version": 3
   },
   "file_extension": ".py",
   "mimetype": "text/x-python",
   "name": "python",
   "nbconvert_exporter": "python",
   "pygments_lexer": "ipython3",
   "version": "3.8.10"
  },
  "orig_nbformat": 4
 },
 "nbformat": 4,
 "nbformat_minor": 2
}
