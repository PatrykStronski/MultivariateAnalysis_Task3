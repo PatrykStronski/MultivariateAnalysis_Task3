{
 "cells": [
  {
   "cell_type": "code",
   "execution_count": 1,
   "metadata": {},
   "outputs": [
    {
     "data": {
      "text/plain": [
       "array(['Missing/Undefined', 'Arson', 'Debris Burning', 'Miscellaneous',\n",
       "       'Campfire', 'Fireworks', 'Children', 'Lightning', 'Equipment Use',\n",
       "       'Smoking', 'Railroad', 'Structure', 'Powerline'], dtype=object)"
      ]
     },
     "execution_count": 1,
     "metadata": {},
     "output_type": "execute_result"
    }
   ],
   "source": [
    "import pandas as pd\n",
    "import matplotlib.pyplot as plt\n",
    "from typing import Callable\n",
    "import math\n",
    "import numpy as np\n",
    "\n",
    "df = pd.read_csv('../data/FW_Veg_Rem_Combined.csv')\n",
    "\n",
    "df['stat_cause_descr'].unique()"
   ]
  }
 ],
 "metadata": {
  "interpreter": {
   "hash": "f9f85f796d01129d0dd105a088854619f454435301f6ffec2fea96ecbd9be4ac"
  },
  "kernelspec": {
   "display_name": "Python 3.9.9 64-bit",
   "language": "python",
   "name": "python3"
  },
  "language_info": {
   "codemirror_mode": {
    "name": "ipython",
    "version": 3
   },
   "file_extension": ".py",
   "mimetype": "text/x-python",
   "name": "python",
   "nbconvert_exporter": "python",
   "pygments_lexer": "ipython3",
   "version": "3.8.10"
  },
  "orig_nbformat": 4
 },
 "nbformat": 4,
 "nbformat_minor": 2
}
