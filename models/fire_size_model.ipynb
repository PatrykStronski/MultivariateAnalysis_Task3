{
 "cells": [
  {
   "cell_type": "code",
   "execution_count": 4,
   "metadata": {},
   "outputs": [
    {
     "data": {
      "image/png": "[encoded data removed]",
      "text/plain": [
       "<Figure size 360x360 with 1 Axes>"
      ]
     },
     "metadata": {
      "needs_background": "light"
     },
     "output_type": "display_data"
    }
   ],
   "source": [
    "import pandas as pd\n",
    "import matplotlib.pyplot as plt\n",
    "import seaborn as sns\n",
    "import numpy as np\n",
    "import scipy\n",
    "\n",
    "df = pd.read_csv('../data/FW_Veg_Rem_Combined.csv')\n",
    "\n",
    "sns.displot(data=df, x='fire_size',  bins=50, stat='probability')\n",
    "plt.show()"
   ]
  },
  {
   "cell_type": "code",
   "execution_count": 5,
   "metadata": {},
   "outputs": [
    {
     "name": "stdout",
     "output_type": "stream",
     "text": [
      "Number of NANs is: 0\n",
      "number of values is: 2380781\n"
     ]
    }
   ],
   "source": [
    "#calculation of number of nans and non-nans\n",
    "\n",
    "nans = df.loc[df.fire_size.isna()]\n",
    "print(f'Number of NANs is: {nans.size}')\n",
    "\n",
    "non_nans = df.loc[~df.fire_size.isna()]\n",
    "print(f'number of values is: {non_nans.size}')"
   ]
  },
  {
   "cell_type": "code",
   "execution_count": 7,
   "metadata": {},
   "outputs": [
    {
     "name": "stdout",
     "output_type": "stream",
     "text": [
      "335873\n"
     ]
    },
    {
     "data": {
      "image/png": "[encoded data removed]",
      "text/plain": [
       "<Figure size 360x360 with 1 Axes>"
      ]
     },
     "metadata": {
      "needs_background": "light"
     },
     "output_type": "display_data"
    }
   ],
   "source": [
    "#sampling PPS\n",
    "\n",
    "fire_size_total = df['fire_size'].sum()\n",
    "sample_size = int(non_nans.size * 0.1)\n",
    "\n",
    "df['cumulative_sum_fs'] = df['fire_size'].cumsum()\n",
    "interval_width = int(fire_size_total/sample_size)\n",
    "\n",
    "num = interval_width #can be a random number also as in the example\n",
    "\n",
    "sampled_series = np.arange(num, fire_size_total, interval_width)\n",
    "cum_array = np.asarray(df['cumulative_sum_fs'])\n",
    "selected_samples = np.zeros(sample_size, dtype='int32')\n",
    "idx = np.searchsorted(cum_array,sampled_series) #the heart of code\n",
    "result = cum_array[idx-1] \n",
    "ndf = df[df.cumulative_sum_fs.isin(result)]\n",
    "del ndf['cumulative_sum_fs'] #so that new file doesn't have cum_sum column\n",
    "print(ndf.size)\n",
    "\n",
    "\n",
    "sns.displot(data=ndf, x='fire_size',  bins=50, stat='probability')\n",
    "plt.show()"
   ]
  }
 ],
 "metadata": {
  "interpreter": {
   "hash": "daf2446246a5d6f6d92e9b9fc6ecf24a4d1823dca77c596d5723849e366eae29"
  },
  "kernelspec": {
   "display_name": "Python 3.8.10 64-bit ('venv': venv)",
   "language": "python",
   "name": "python3"
  },
  "language_info": {
   "codemirror_mode": {
    "name": "ipython",
    "version": 3
   },
   "file_extension": ".py",
   "mimetype": "text/x-python",
   "name": "python",
   "nbconvert_exporter": "python",
   "pygments_lexer": "ipython3",
   "version": "3.8.10"
  },
  "orig_nbformat": 4
 },
 "nbformat": 4,
 "nbformat_minor": 2
}
