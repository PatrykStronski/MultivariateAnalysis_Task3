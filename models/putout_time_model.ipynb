{
 "cells": [
  {
   "cell_type": "code",
   "execution_count": 10,
   "metadata": {},
   "outputs": [],
   "source": [
    "import pandas as pd\n",
    "import matplotlib.pyplot as plt\n",
    "import seaborn as sns\n",
    "import scipy\n",
    "\n",
    "df = pd.read_csv('../data/FW_Veg_Rem_Combined.csv')"
   ]
  },
  {
   "cell_type": "code",
   "execution_count": 5,
   "metadata": {},
   "outputs": [
    {
     "name": "stdout",
     "output_type": "stream",
     "text": [
      "Number of NANs is: 1199270\n",
      "number of values is: 1181511\n"
     ]
    }
   ],
   "source": [
    "#calculation of number of nans and non-nans\n",
    "\n",
    "nans = df.loc[df.putout_time.isna()]\n",
    "print(f'Number of NANs is: {nans.size}')\n",
    "\n",
    "non_nans = df.loc[~df.putout_time.isna()]\n",
    "print(f'number of values is: {non_nans.size}')"
   ]
  },
  {
   "cell_type": "code",
   "execution_count": 12,
   "metadata": {},
   "outputs": [
    {
     "name": "stdout",
     "output_type": "stream",
     "text": [
      "3     0 days 00:00:00.000000000\n",
      "9     0 days 00:00:00.000000000\n",
      "11    0 days 00:00:00.000000000\n",
      "14    0 days 00:00:00.000000000\n",
      "22    0 days 00:00:00.000000000\n",
      "24    0 days 00:00:00.000000000\n",
      "26    0 days 00:00:00.000000000\n",
      "27    0 days 00:00:00.000000000\n",
      "31    0 days 00:00:00.000000000\n",
      "32    0 days 00:00:00.000000000\n",
      "Name: putout_time, dtype: object\n"
     ]
    }
   ],
   "source": [
    "print(non_nans.putout_time.head(10))"
   ]
  },
  {
   "cell_type": "code",
   "execution_count": 7,
   "metadata": {},
   "outputs": [
    {
     "data": {
      "image/png": "[encoded data removed]",
      "text/plain": [
       "<Figure size 360x360 with 1 Axes>"
      ]
     },
     "metadata": {
      "needs_background": "light"
     },
     "output_type": "display_data"
    }
   ],
   "source": [
    "sns.displot(data=non_nans, x='putout_time',  bins=100, stat='density')\n",
    "plt.show()"
   ]
  }
 ],
 "metadata": {
  "interpreter": {
   "hash": "dffc6a57b8f9fa38a755237629557dc6f7b2edba1c2bac95e97d1efb0825353e"
  },
  "kernelspec": {
   "display_name": "Python 3.8.10 64-bit ('venv': venv)",
   "language": "python",
   "name": "python3"
  },
  "language_info": {
   "codemirror_mode": {
    "name": "ipython",
    "version": 3
   },
   "file_extension": ".py",
   "mimetype": "text/x-python",
   "name": "python",
   "nbconvert_exporter": "python",
   "pygments_lexer": "ipython3",
   "version": "3.8.10"
  },
  "orig_nbformat": 4
 },
 "nbformat": 4,
 "nbformat_minor": 2
}
