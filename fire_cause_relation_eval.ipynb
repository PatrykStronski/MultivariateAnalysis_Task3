{
 "cells": [
  {
   "cell_type": "code",
   "execution_count": 16,
   "metadata": {},
   "outputs": [
    {
     "name": "stderr",
     "output_type": "stream",
     "text": [
      "/home/patrik-sh/Documents/ITMO_Classes/Multivariate/tasks/task3/venv/lib/python3.8/site-packages/pandas/core/frame.py:4906: SettingWithCopyWarning: \n",
      "A value is trying to be set on a copy of a slice from a DataFrame\n",
      "\n",
      "See the caveats in the documentation: https://pandas.pydata.org/pandas-docs/stable/user_guide/indexing.html#returning-a-view-versus-a-copy\n",
      "  return super().drop(\n"
     ]
    }
   ],
   "source": [
    "import pandas as pd\n",
    "import matplotlib.pyplot as plt\n",
    "import seaborn as sns\n",
    "from scipy.stats import pointbiserialr\n",
    "from sampling import pps, accept_reject\n",
    "\n",
    "PROPERTY = 'fire_size'\n",
    "\n",
    "dfo = pd.read_csv('./data/FW_Veg_Rem_Combined.csv')\n",
    "\n",
    "cont_columns_prefix = ['Prec_pre_', \"Temp_pre_\", \"Wind_pre_\", \"Hum_pre_\"]\n",
    "columns_suffix = [7, 15, 30]\n",
    "\n",
    "weather_columns = [ x + str(y) for x in cont_columns_prefix for y in columns_suffix]\n",
    "\n",
    "def preprocess_missing_weather_data(df):\n",
    "    df_subsample = df[df['Temp_pre_7'] == -1]\n",
    "    df_clean = df[df['Temp_pre_7'] != -1]\n",
    "    mean_weather_data = df_clean.groupby(['state', 'discovery_month'])[weather_columns].mean().reset_index()\n",
    "    df_subsample.drop(weather_columns, axis=1, inplace=True)\n",
    "    df_subsample = df_subsample.merge(mean_weather_data)\n",
    "    df_clean = df_clean.append(df_subsample, ignore_index=True)\n",
    "    return df_clean\n",
    "\n",
    "df = preprocess_missing_weather_data(dfo)\n",
    "\n",
    "causes = df.stat_cause_descr.unique()\n",
    "bayesian_net_columns_cont = ['fire_size', 'latitude', 'longitude', 'Temp_pre_30', 'Temp_pre_15', 'Temp_pre_7', \n",
    "        'Temp_cont', 'Wind_pre_30', 'Wind_pre_15', 'Wind_pre_7', 'Wind_cont',\n",
    "       'Hum_pre_30', 'Hum_pre_15', 'Hum_pre_7', 'Hum_cont', 'Prec_pre_30',\n",
    "       'Prec_pre_15', 'Prec_pre_7', 'Prec_cont', 'remoteness']"
   ]
  },
  {
   "cell_type": "code",
   "execution_count": 20,
   "metadata": {},
   "outputs": [
    {
     "name": "stdout",
     "output_type": "stream",
     "text": [
      "       property  Missing/Undefined     Arson  Debris Burning  Campfire  \\\n",
      "0     fire_size          -0.020008 -0.050966       -0.077812  0.000499   \n",
      "1      latitude          -0.146258 -0.051947       -0.104620  0.017823   \n",
      "2     longitude           0.073169  0.137974        0.196612  0.003758   \n",
      "3   Temp_pre_30           0.018885 -0.100629       -0.152301 -0.031213   \n",
      "4   Temp_pre_15           0.011799 -0.097339       -0.157080 -0.033186   \n",
      "5    Temp_pre_7           0.008170 -0.095068       -0.156220 -0.034331   \n",
      "6     Temp_cont           0.004033 -0.111757       -0.077161 -0.015318   \n",
      "7   Wind_pre_30           0.091449 -0.049976       -0.068323 -0.015564   \n",
      "8   Wind_pre_15           0.080753 -0.039965       -0.072475 -0.014304   \n",
      "9    Wind_pre_7           0.074346 -0.030052       -0.067739 -0.013438   \n",
      "10    Wind_cont           0.014486 -0.091204       -0.035546 -0.007180   \n",
      "11   Hum_pre_30           0.048636  0.067344        0.129945  0.005554   \n",
      "12   Hum_pre_15           0.040397  0.061290        0.092317  0.001692   \n",
      "13    Hum_pre_7           0.036048  0.056756        0.077787 -0.001316   \n",
      "14     Hum_cont           0.020286 -0.063655        0.012881 -0.005692   \n",
      "15  Prec_pre_30          -0.013030  0.045313        0.032301  0.006559   \n",
      "16  Prec_pre_15          -0.010765  0.042651        0.029097  0.007256   \n",
      "17   Prec_pre_7          -0.013770  0.028197        0.021146  0.006806   \n",
      "18    Prec_cont          -0.006350  0.007193        0.035382  0.003024   \n",
      "19   remoteness          -0.038411 -0.090711       -0.138068 -0.004670   \n",
      "\n",
      "    Miscellaneous  Fireworks  Lightning  Equipment Use  Children   Smoking  \\\n",
      "0       -0.023649  -0.006079   0.224599      -0.017798 -0.019752 -0.016850   \n",
      "1        0.008374   0.041025   0.308865      -0.016758  0.007155  0.002082   \n",
      "2       -0.035812  -0.017651  -0.400691      -0.071494  0.033395  0.028969   \n",
      "3        0.005969   0.014613   0.239815       0.073747 -0.021067 -0.018067   \n",
      "4        0.007775   0.018914   0.250418       0.068797 -0.019979 -0.017223   \n",
      "5        0.007575   0.020374   0.255911       0.062761 -0.018243 -0.018438   \n",
      "6       -0.006798  -0.019060   0.195872       0.060007 -0.018204 -0.019838   \n",
      "7        0.059220   0.025788  -0.021989       0.021489  0.009497  0.007199   \n",
      "8        0.055699   0.023178  -0.013134       0.019478  0.009306  0.009832   \n",
      "9        0.052507   0.022946  -0.021855       0.018103  0.010992  0.010991   \n",
      "10       0.017795  -0.017539   0.086152       0.046506 -0.013890 -0.007488   \n",
      "11      -0.021412  -0.002457  -0.238460      -0.023820  0.004479  0.000420   \n",
      "12      -0.018349  -0.001163  -0.179993      -0.016626  0.000246  0.000054   \n",
      "13      -0.018479   0.000470  -0.155193      -0.012086  0.002670 -0.000163   \n",
      "14      -0.021356  -0.028909   0.046716       0.035601 -0.013548 -0.011533   \n",
      "15      -0.005518   0.002746  -0.054526      -0.024866  0.000939  0.003843   \n",
      "16      -0.010406  -0.001911  -0.044209      -0.021706  0.000396 -0.000873   \n",
      "17      -0.005173  -0.001517  -0.027917      -0.013223 -0.004050 -0.000287   \n",
      "18      -0.015159  -0.010086  -0.024303      -0.010129 -0.000215  0.001682   \n",
      "19       0.057982   0.024309   0.201943       0.082258 -0.019140 -0.018302   \n",
      "\n",
      "    Railroad  Structure  Powerline      mean   abs_sum  \n",
      "0  -0.015679  -0.000411   0.003289 -0.001586  0.477392  \n",
      "1  -0.061402   0.009588   0.004585  0.001424  0.780483  \n",
      "2   0.060282   0.002720  -0.026519 -0.001176  1.089045  \n",
      "3   0.005850  -0.010683   0.022083  0.003616  0.714922  \n",
      "4   0.000425  -0.006404   0.022941  0.003835  0.712281  \n",
      "5  -0.004698  -0.002720   0.023559  0.003741  0.708066  \n",
      "6   0.003213  -0.013351   0.015426 -0.000226  0.560039  \n",
      "7  -0.007769  -0.001448   0.031858  0.006264  0.411569  \n",
      "8  -0.010924  -0.001592   0.029457  0.005793  0.380098  \n",
      "9  -0.011517   0.001520   0.029760  0.005890  0.365766  \n",
      "10  0.001682  -0.008992   0.025770  0.000812  0.374230  \n",
      "11  0.012706   0.001794  -0.010951 -0.002017  0.567978  \n",
      "12  0.005134   0.001470  -0.015165 -0.002207  0.433896  \n",
      "13 -0.000011   0.001326  -0.014066 -0.002020  0.376372  \n",
      "14  0.014633  -0.016948  -0.005137 -0.002820  0.296894  \n",
      "15 -0.003256  -0.000208  -0.012701 -0.001723  0.205804  \n",
      "16 -0.004875  -0.001298  -0.010304 -0.002073  0.185749  \n",
      "17 -0.002159  -0.001787  -0.007761 -0.001653  0.133793  \n",
      "18  0.014113  -0.008115  -0.014007 -0.002075  0.149757  \n",
      "19 -0.042456  -0.005286   0.026883  0.002795  0.750418  \n"
     ]
    }
   ],
   "source": [
    "ress= []\n",
    "\n",
    "for col in bayesian_net_columns_cont:\n",
    "    row = { 'property': col }\n",
    "    s = 0\n",
    "    abs_sum = 0\n",
    "    for cause in causes:\n",
    "        df[cause] = df.stat_cause_descr.apply(lambda x: x == cause)\n",
    "        r,p = pointbiserialr(df[cause], df[col])\n",
    "        s += r\n",
    "        abs_sum += abs(r)\n",
    "        row[cause] = r\n",
    "    row['mean'] = s/len(causes)\n",
    "    row['abs_sum'] = abs_sum\n",
    "    ress.append(row)\n",
    "\n",
    "df_res = pd.DataFrame(ress)\n",
    "print(df_res)"
   ]
  },
  {
   "cell_type": "code",
   "execution_count": 19,
   "metadata": {},
   "outputs": [
    {
     "data": {
      "text/plain": [
       "17     Prec_pre_7\n",
       "18      Prec_cont\n",
       "16    Prec_pre_15\n",
       "15    Prec_pre_30\n",
       "14       Hum_cont\n",
       "9      Wind_pre_7\n",
       "10      Wind_cont\n",
       "13      Hum_pre_7\n",
       "8     Wind_pre_15\n",
       "7     Wind_pre_30\n",
       "Name: property, dtype: object"
      ]
     },
     "execution_count": 19,
     "metadata": {},
     "output_type": "execute_result"
    }
   ],
   "source": [
    "df_res.sort_values(by='abs_sum').head(10).property"
   ]
  }
 ],
 "metadata": {
  "interpreter": {
   "hash": "dffc6a57b8f9fa38a755237629557dc6f7b2edba1c2bac95e97d1efb0825353e"
  },
  "kernelspec": {
   "display_name": "Python 3.8.10 64-bit ('venv': venv)",
   "language": "python",
   "name": "python3"
  },
  "language_info": {
   "codemirror_mode": {
    "name": "ipython",
    "version": 3
   },
   "file_extension": ".py",
   "mimetype": "text/x-python",
   "name": "python",
   "nbconvert_exporter": "python",
   "pygments_lexer": "ipython3",
   "version": "3.8.10"
  },
  "orig_nbformat": 4
 },
 "nbformat": 4,
 "nbformat_minor": 2
}
