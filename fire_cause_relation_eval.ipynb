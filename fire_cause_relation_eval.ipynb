{
 "cells": [
  {
   "cell_type": "code",
   "execution_count": 17,
   "metadata": {},
   "outputs": [
    {
     "name": "stderr",
     "output_type": "stream",
     "text": [
      "/home/patrik-sh/Documents/ITMO_Classes/Multivariate/tasks/task3/venv/lib/python3.8/site-packages/pandas/core/frame.py:4906: SettingWithCopyWarning: \n",
      "A value is trying to be set on a copy of a slice from a DataFrame\n",
      "\n",
      "See the caveats in the documentation: https://pandas.pydata.org/pandas-docs/stable/user_guide/indexing.html#returning-a-view-versus-a-copy\n",
      "  return super().drop(\n"
     ]
    }
   ],
   "source": [
    "import pandas as pd\n",
    "import matplotlib.pyplot as plt\n",
    "import seaborn as sns\n",
    "from scipy.stats import pointbiserialr\n",
    "from sampling import pps, accept_reject\n",
    "\n",
    "PROPERTY = 'fire_size'\n",
    "\n",
    "dfo = pd.read_csv('./data/FW_Veg_Rem_Combined.csv')\n",
    "\n",
    "cont_columns_prefix = ['Prec_pre_', \"Temp_pre_\", \"Wind_pre_\", \"Hum_pre_\"]\n",
    "columns_suffix = [7, 15, 30]\n",
    "\n",
    "weather_columns = [ x + str(y) for x in cont_columns_prefix for y in columns_suffix]\n",
    "\n",
    "def preprocess_missing_weather_data(df):\n",
    "    df_subsample = df[df['Temp_pre_7'] == -1]\n",
    "    df_clean = df[df['Temp_pre_7'] != -1]\n",
    "    mean_weather_data = df_clean.groupby(['state', 'discovery_month'])[weather_columns].mean().reset_index()\n",
    "    df_subsample.drop(weather_columns, axis=1, inplace=True)\n",
    "    df_subsample = df_subsample.merge(mean_weather_data)\n",
    "    df_clean = df_clean.append(df_subsample, ignore_index=True)\n",
    "    return df_clean\n",
    "\n",
    "df = preprocess_missing_weather_data(dfo)\n",
    "\n",
    "causes = df.stat_cause_descr.unique()\n",
    "bayesian_net_columns_cont = ['remoteness', 'latitude', 'longitude', 'Temp_pre_7', 'Temp_pre_15', 'Temp_pre_30', 'Prec_pre_30', 'Hum_pre_7', 'Hum_pre_15', 'Hum_pre_30']"
   ]
  },
  {
   "cell_type": "code",
   "execution_count": 24,
   "metadata": {},
   "outputs": [
    {
     "name": "stdout",
     "output_type": "stream",
     "text": [
      "      property  Missing/Undefined     Arson  Debris Burning  Campfire  \\\n",
      "0   remoteness          -0.038411 -0.090711       -0.138068 -0.004670   \n",
      "1     latitude          -0.146258 -0.051947       -0.104620  0.017823   \n",
      "2    longitude           0.073169  0.137974        0.196612  0.003758   \n",
      "3   Temp_pre_7           0.008170 -0.095068       -0.156220 -0.034331   \n",
      "4  Temp_pre_15           0.011799 -0.097339       -0.157080 -0.033186   \n",
      "5  Temp_pre_30           0.018885 -0.100629       -0.152301 -0.031213   \n",
      "6  Prec_pre_30          -0.013030  0.045313        0.032301  0.006559   \n",
      "7    Hum_pre_7           0.036048  0.056756        0.077787 -0.001316   \n",
      "8   Hum_pre_15           0.040397  0.061290        0.092317  0.001692   \n",
      "9   Hum_pre_30           0.048636  0.067344        0.129945  0.005554   \n",
      "\n",
      "   Miscellaneous  Fireworks  Lightning  Equipment Use  Children   Smoking  \\\n",
      "0       0.057982   0.024309   0.201943       0.082258 -0.019140 -0.018302   \n",
      "1       0.008374   0.041025   0.308865      -0.016758  0.007155  0.002082   \n",
      "2      -0.035812  -0.017651  -0.400691      -0.071494  0.033395  0.028969   \n",
      "3       0.007575   0.020374   0.255911       0.062761 -0.018243 -0.018438   \n",
      "4       0.007775   0.018914   0.250418       0.068797 -0.019979 -0.017223   \n",
      "5       0.005969   0.014613   0.239815       0.073747 -0.021067 -0.018067   \n",
      "6      -0.005518   0.002746  -0.054526      -0.024866  0.000939  0.003843   \n",
      "7      -0.018479   0.000470  -0.155193      -0.012086  0.002670 -0.000163   \n",
      "8      -0.018349  -0.001163  -0.179993      -0.016626  0.000246  0.000054   \n",
      "9      -0.021412  -0.002457  -0.238460      -0.023820  0.004479  0.000420   \n",
      "\n",
      "   Railroad  Structure  Powerline  \n",
      "0 -0.042456  -0.005286   0.026883  \n",
      "1 -0.061402   0.009588   0.004585  \n",
      "2  0.060282   0.002720  -0.026519  \n",
      "3 -0.004698  -0.002720   0.023559  \n",
      "4  0.000425  -0.006404   0.022941  \n",
      "5  0.005850  -0.010683   0.022083  \n",
      "6 -0.003256  -0.000208  -0.012701  \n",
      "7 -0.000011   0.001326  -0.014066  \n",
      "8  0.005134   0.001470  -0.015165  \n",
      "9  0.012706   0.001794  -0.010951  \n"
     ]
    }
   ],
   "source": [
    "ress= []\n",
    "\n",
    "for col in bayesian_net_columns_cont:\n",
    "    row = { 'property': col }\n",
    "    for cause in causes:\n",
    "        df[cause] = df.stat_cause_descr.apply(lambda x: x == cause)\n",
    "        r,p = pointbiserialr(df[cause], df[col])\n",
    "        row[cause] = r\n",
    "    ress.append(row)\n",
    "\n",
    "df_res = pd.DataFrame(ress)\n",
    "print(df_res)"
   ]
  }
 ],
 "metadata": {
  "interpreter": {
   "hash": "dffc6a57b8f9fa38a755237629557dc6f7b2edba1c2bac95e97d1efb0825353e"
  },
  "kernelspec": {
   "display_name": "Python 3.8.10 64-bit ('venv': venv)",
   "language": "python",
   "name": "python3"
  },
  "language_info": {
   "codemirror_mode": {
    "name": "ipython",
    "version": 3
   },
   "file_extension": ".py",
   "mimetype": "text/x-python",
   "name": "python",
   "nbconvert_exporter": "python",
   "pygments_lexer": "ipython3",
   "version": "3.8.10"
  },
  "orig_nbformat": 4
 },
 "nbformat": 4,
 "nbformat_minor": 2
}
